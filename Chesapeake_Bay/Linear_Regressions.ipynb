{
 "cells": [
  {
   "cell_type": "code",
   "execution_count": 1,
   "metadata": {},
   "outputs": [],
   "source": [
    "import numpy as np\n",
    "import pandas as pd\n",
    "from sklearn.linear_model import LinearRegression"
   ]
  },
  {
   "cell_type": "code",
   "execution_count": 3,
   "metadata": {},
   "outputs": [
    {
     "name": "stderr",
     "output_type": "stream",
     "text": [
      "C:\\Users\\timos\\Anaconda3\\lib\\site-packages\\IPython\\core\\interactiveshell.py:3058: DtypeWarning: Columns (7) have mixed types.Specify dtype option on import or set low_memory=False.\n",
      "  interactivity=interactivity, compiler=compiler, result=result)\n"
     ]
    },
    {
     "data": {
      "text/html": [
       "<div>\n",
       "<style scoped>\n",
       "    .dataframe tbody tr th:only-of-type {\n",
       "        vertical-align: middle;\n",
       "    }\n",
       "\n",
       "    .dataframe tbody tr th {\n",
       "        vertical-align: top;\n",
       "    }\n",
       "\n",
       "    .dataframe thead th {\n",
       "        text-align: right;\n",
       "    }\n",
       "</style>\n",
       "<table border=\"1\" class=\"dataframe\">\n",
       "  <thead>\n",
       "    <tr style=\"text-align: right;\">\n",
       "      <th></th>\n",
       "      <th>Unnamed: 0</th>\n",
       "      <th>Date</th>\n",
       "      <th>Latitude</th>\n",
       "      <th>Longitude</th>\n",
       "      <th>MeasureValue</th>\n",
       "      <th>Parameter</th>\n",
       "      <th>Problem</th>\n",
       "      <th>Qualifier</th>\n",
       "      <th>SampleDepth</th>\n",
       "      <th>SampleId</th>\n",
       "      <th>Station</th>\n",
       "      <th>Time</th>\n",
       "      <th>HUC12_</th>\n",
       "      <th>HUCNAME_</th>\n",
       "      <th>FIPS_</th>\n",
       "      <th>COUNTY_</th>\n",
       "      <th>STATE_</th>\n",
       "      <th>ParameterName with Measure</th>\n",
       "    </tr>\n",
       "  </thead>\n",
       "  <tbody>\n",
       "    <tr>\n",
       "      <th>0</th>\n",
       "      <td>0</td>\n",
       "      <td>2010-01-11</td>\n",
       "      <td>37.91011</td>\n",
       "      <td>-76.17137</td>\n",
       "      <td>22.1230</td>\n",
       "      <td>CHLA</td>\n",
       "      <td>NaN</td>\n",
       "      <td>NaN</td>\n",
       "      <td>17.0</td>\n",
       "      <td>94013.0</td>\n",
       "      <td>CB5.3</td>\n",
       "      <td>10:28:00</td>\n",
       "      <td>20801010000</td>\n",
       "      <td>Lower Chesapeake Bay</td>\n",
       "      <td>51001</td>\n",
       "      <td>Accomack County</td>\n",
       "      <td>VA</td>\n",
       "      <td>ACTIVE CHLOROPHYLL-A 22.123 UG/L</td>\n",
       "    </tr>\n",
       "    <tr>\n",
       "      <th>1</th>\n",
       "      <td>1</td>\n",
       "      <td>2010-01-11</td>\n",
       "      <td>38.58070</td>\n",
       "      <td>-76.05870</td>\n",
       "      <td>3.0700</td>\n",
       "      <td>CHLA</td>\n",
       "      <td>NaN</td>\n",
       "      <td>NaN</td>\n",
       "      <td>2.3</td>\n",
       "      <td>94015.0</td>\n",
       "      <td>ET5.2</td>\n",
       "      <td>10:40:00</td>\n",
       "      <td>20600050503</td>\n",
       "      <td>La Trappe Creek-Choptank River</td>\n",
       "      <td>24019</td>\n",
       "      <td>Dorchester County</td>\n",
       "      <td>MD</td>\n",
       "      <td>ACTIVE CHLOROPHYLL-A 3.07 UG/L</td>\n",
       "    </tr>\n",
       "    <tr>\n",
       "      <th>2</th>\n",
       "      <td>2</td>\n",
       "      <td>2010-01-11</td>\n",
       "      <td>37.91011</td>\n",
       "      <td>-76.17137</td>\n",
       "      <td>8.1000</td>\n",
       "      <td>PH</td>\n",
       "      <td>NaN</td>\n",
       "      <td>NaN</td>\n",
       "      <td>0.5</td>\n",
       "      <td>94013.0</td>\n",
       "      <td>CB5.3</td>\n",
       "      <td>10:28:00</td>\n",
       "      <td>20801010000</td>\n",
       "      <td>Lower Chesapeake Bay</td>\n",
       "      <td>51001</td>\n",
       "      <td>Accomack County</td>\n",
       "      <td>VA</td>\n",
       "      <td>PH CORRECTED FOR TEMPERATURE (25 DEG C) 8.1 SU</td>\n",
       "    </tr>\n",
       "    <tr>\n",
       "      <th>3</th>\n",
       "      <td>3</td>\n",
       "      <td>2010-01-11</td>\n",
       "      <td>37.58124</td>\n",
       "      <td>-76.05799</td>\n",
       "      <td>15.5928</td>\n",
       "      <td>CHLA</td>\n",
       "      <td>NaN</td>\n",
       "      <td>NaN</td>\n",
       "      <td>1.0</td>\n",
       "      <td>94023.0</td>\n",
       "      <td>CB7.1S</td>\n",
       "      <td>11:48:00</td>\n",
       "      <td>20801010000</td>\n",
       "      <td>Lower Chesapeake Bay</td>\n",
       "      <td>51001</td>\n",
       "      <td>Accomack County</td>\n",
       "      <td>VA</td>\n",
       "      <td>ACTIVE CHLOROPHYLL-A 15.5928 UG/L</td>\n",
       "    </tr>\n",
       "    <tr>\n",
       "      <th>4</th>\n",
       "      <td>4</td>\n",
       "      <td>2010-01-11</td>\n",
       "      <td>37.58124</td>\n",
       "      <td>-76.05799</td>\n",
       "      <td>20.6925</td>\n",
       "      <td>CHLA</td>\n",
       "      <td>NaN</td>\n",
       "      <td>NaN</td>\n",
       "      <td>15.0</td>\n",
       "      <td>94023.0</td>\n",
       "      <td>CB7.1S</td>\n",
       "      <td>11:48:00</td>\n",
       "      <td>20801010000</td>\n",
       "      <td>Lower Chesapeake Bay</td>\n",
       "      <td>51001</td>\n",
       "      <td>Accomack County</td>\n",
       "      <td>VA</td>\n",
       "      <td>ACTIVE CHLOROPHYLL-A 20.6925 UG/L</td>\n",
       "    </tr>\n",
       "  </tbody>\n",
       "</table>\n",
       "</div>"
      ],
      "text/plain": [
       "   Unnamed: 0        Date  Latitude  Longitude  MeasureValue Parameter  \\\n",
       "0           0  2010-01-11  37.91011  -76.17137       22.1230      CHLA   \n",
       "1           1  2010-01-11  38.58070  -76.05870        3.0700      CHLA   \n",
       "2           2  2010-01-11  37.91011  -76.17137        8.1000        PH   \n",
       "3           3  2010-01-11  37.58124  -76.05799       15.5928      CHLA   \n",
       "4           4  2010-01-11  37.58124  -76.05799       20.6925      CHLA   \n",
       "\n",
       "  Problem Qualifier  SampleDepth  SampleId Station      Time       HUC12_  \\\n",
       "0     NaN       NaN         17.0   94013.0   CB5.3  10:28:00  20801010000   \n",
       "1     NaN       NaN          2.3   94015.0   ET5.2  10:40:00  20600050503   \n",
       "2     NaN       NaN          0.5   94013.0   CB5.3  10:28:00  20801010000   \n",
       "3     NaN       NaN          1.0   94023.0  CB7.1S  11:48:00  20801010000   \n",
       "4     NaN       NaN         15.0   94023.0  CB7.1S  11:48:00  20801010000   \n",
       "\n",
       "                         HUCNAME_  FIPS_            COUNTY_ STATE_  \\\n",
       "0            Lower Chesapeake Bay  51001    Accomack County     VA   \n",
       "1  La Trappe Creek-Choptank River  24019  Dorchester County     MD   \n",
       "2            Lower Chesapeake Bay  51001    Accomack County     VA   \n",
       "3            Lower Chesapeake Bay  51001    Accomack County     VA   \n",
       "4            Lower Chesapeake Bay  51001    Accomack County     VA   \n",
       "\n",
       "                       ParameterName with Measure  \n",
       "0                ACTIVE CHLOROPHYLL-A 22.123 UG/L  \n",
       "1                  ACTIVE CHLOROPHYLL-A 3.07 UG/L  \n",
       "2  PH CORRECTED FOR TEMPERATURE (25 DEG C) 8.1 SU  \n",
       "3               ACTIVE CHLOROPHYLL-A 15.5928 UG/L  \n",
       "4               ACTIVE CHLOROPHYLL-A 20.6925 UG/L  "
      ]
     },
     "execution_count": 3,
     "metadata": {},
     "output_type": "execute_result"
    }
   ],
   "source": [
    "combinedchemical = pd.read_csv('combinedchemicaldata.csv')\n",
    "combinedchemical.head()"
   ]
  },
  {
   "cell_type": "code",
   "execution_count": 4,
   "metadata": {},
   "outputs": [
    {
     "data": {
      "text/plain": [
       "Index(['Unnamed: 0', 'Date', 'Latitude', 'Longitude', 'MeasureValue',\n",
       "       'Parameter', 'Problem', 'Qualifier', 'SampleDepth', 'SampleId',\n",
       "       'Station', 'Time', 'HUC12_', 'HUCNAME_', 'FIPS_', 'COUNTY_', 'STATE_',\n",
       "       'ParameterName with Measure'],\n",
       "      dtype='object')"
      ]
     },
     "execution_count": 4,
     "metadata": {},
     "output_type": "execute_result"
    }
   ],
   "source": [
    "combinedchemical.columns"
   ]
  },
  {
   "cell_type": "code",
   "execution_count": 5,
   "metadata": {},
   "outputs": [
    {
     "data": {
      "text/plain": [
       "array(['CHLA', 'PH', 'DO', 'SALINITY', 'WTEMP', 'TSS', 'TP', 'TN'],\n",
       "      dtype=object)"
      ]
     },
     "execution_count": 5,
     "metadata": {},
     "output_type": "execute_result"
    }
   ],
   "source": [
    "combinedchemical['Parameter'].unique()"
   ]
  },
  {
   "cell_type": "code",
   "execution_count": 6,
   "metadata": {},
   "outputs": [
    {
     "data": {
      "text/plain": [
       "(295851, 18)"
      ]
     },
     "execution_count": 6,
     "metadata": {},
     "output_type": "execute_result"
    }
   ],
   "source": [
    "combinedchemical.shape"
   ]
  },
  {
   "cell_type": "code",
   "execution_count": 15,
   "metadata": {},
   "outputs": [
    {
     "data": {
      "text/html": [
       "<div>\n",
       "<style scoped>\n",
       "    .dataframe tbody tr th:only-of-type {\n",
       "        vertical-align: middle;\n",
       "    }\n",
       "\n",
       "    .dataframe tbody tr th {\n",
       "        vertical-align: top;\n",
       "    }\n",
       "\n",
       "    .dataframe thead th {\n",
       "        text-align: right;\n",
       "    }\n",
       "</style>\n",
       "<table border=\"1\" class=\"dataframe\">\n",
       "  <thead>\n",
       "    <tr style=\"text-align: right;\">\n",
       "      <th></th>\n",
       "      <th>Unnamed: 0</th>\n",
       "      <th>Date</th>\n",
       "      <th>Latitude</th>\n",
       "      <th>Longitude</th>\n",
       "      <th>MeasureValue</th>\n",
       "      <th>Parameter</th>\n",
       "      <th>Problem</th>\n",
       "      <th>Qualifier</th>\n",
       "      <th>SampleDepth</th>\n",
       "      <th>SampleId</th>\n",
       "      <th>Station</th>\n",
       "      <th>Time</th>\n",
       "      <th>HUC12_</th>\n",
       "      <th>HUCNAME_</th>\n",
       "      <th>FIPS_</th>\n",
       "      <th>COUNTY_</th>\n",
       "      <th>STATE_</th>\n",
       "      <th>ParameterName with Measure</th>\n",
       "    </tr>\n",
       "  </thead>\n",
       "  <tbody>\n",
       "    <tr>\n",
       "      <th>0</th>\n",
       "      <td>0</td>\n",
       "      <td>2010-01-11</td>\n",
       "      <td>37.91011</td>\n",
       "      <td>-76.17137</td>\n",
       "      <td>22.1230</td>\n",
       "      <td>CHLA</td>\n",
       "      <td>NaN</td>\n",
       "      <td>NaN</td>\n",
       "      <td>17.0</td>\n",
       "      <td>94013.0</td>\n",
       "      <td>CB5.3</td>\n",
       "      <td>10:28:00</td>\n",
       "      <td>20801010000</td>\n",
       "      <td>Lower Chesapeake Bay</td>\n",
       "      <td>51001</td>\n",
       "      <td>Accomack County</td>\n",
       "      <td>VA</td>\n",
       "      <td>ACTIVE CHLOROPHYLL-A 22.123 UG/L</td>\n",
       "    </tr>\n",
       "    <tr>\n",
       "      <th>229592</th>\n",
       "      <td>229592</td>\n",
       "      <td>2017-08-31</td>\n",
       "      <td>37.06237</td>\n",
       "      <td>-75.99937</td>\n",
       "      <td>5.6604</td>\n",
       "      <td>CHLA</td>\n",
       "      <td>NaN</td>\n",
       "      <td>NaN</td>\n",
       "      <td>1.0</td>\n",
       "      <td>429030.0</td>\n",
       "      <td>CB7.4N</td>\n",
       "      <td>10:18:00</td>\n",
       "      <td>20801010000</td>\n",
       "      <td>Lower Chesapeake Bay</td>\n",
       "      <td>51131</td>\n",
       "      <td>Northampton County</td>\n",
       "      <td>VA</td>\n",
       "      <td>ACTIVE CHLOROPHYLL-A 5.6604 UG/L</td>\n",
       "    </tr>\n",
       "    <tr>\n",
       "      <th>229591</th>\n",
       "      <td>229591</td>\n",
       "      <td>2017-08-31</td>\n",
       "      <td>37.06237</td>\n",
       "      <td>-75.99937</td>\n",
       "      <td>5.0730</td>\n",
       "      <td>CHLA</td>\n",
       "      <td>NaN</td>\n",
       "      <td>NaN</td>\n",
       "      <td>10.0</td>\n",
       "      <td>429030.0</td>\n",
       "      <td>CB7.4N</td>\n",
       "      <td>10:18:00</td>\n",
       "      <td>20801010000</td>\n",
       "      <td>Lower Chesapeake Bay</td>\n",
       "      <td>51131</td>\n",
       "      <td>Northampton County</td>\n",
       "      <td>VA</td>\n",
       "      <td>ACTIVE CHLOROPHYLL-A 5.073 UG/L</td>\n",
       "    </tr>\n",
       "    <tr>\n",
       "      <th>229590</th>\n",
       "      <td>229590</td>\n",
       "      <td>2017-08-31</td>\n",
       "      <td>37.06237</td>\n",
       "      <td>-75.99937</td>\n",
       "      <td>5.4468</td>\n",
       "      <td>CHLA</td>\n",
       "      <td>NaN</td>\n",
       "      <td>NaN</td>\n",
       "      <td>1.0</td>\n",
       "      <td>429030.0</td>\n",
       "      <td>CB7.4N</td>\n",
       "      <td>10:18:00</td>\n",
       "      <td>20801010000</td>\n",
       "      <td>Lower Chesapeake Bay</td>\n",
       "      <td>51131</td>\n",
       "      <td>Northampton County</td>\n",
       "      <td>VA</td>\n",
       "      <td>ACTIVE CHLOROPHYLL-A 5.4468 UG/L</td>\n",
       "    </tr>\n",
       "    <tr>\n",
       "      <th>229589</th>\n",
       "      <td>229589</td>\n",
       "      <td>2017-08-31</td>\n",
       "      <td>37.06237</td>\n",
       "      <td>-75.99937</td>\n",
       "      <td>4.9395</td>\n",
       "      <td>CHLA</td>\n",
       "      <td>NaN</td>\n",
       "      <td>NaN</td>\n",
       "      <td>10.0</td>\n",
       "      <td>429030.0</td>\n",
       "      <td>CB7.4N</td>\n",
       "      <td>10:18:00</td>\n",
       "      <td>20801010000</td>\n",
       "      <td>Lower Chesapeake Bay</td>\n",
       "      <td>51131</td>\n",
       "      <td>Northampton County</td>\n",
       "      <td>VA</td>\n",
       "      <td>ACTIVE CHLOROPHYLL-A 4.9395 UG/L</td>\n",
       "    </tr>\n",
       "  </tbody>\n",
       "</table>\n",
       "</div>"
      ],
      "text/plain": [
       "        Unnamed: 0        Date  Latitude  Longitude  MeasureValue Parameter  \\\n",
       "0                0  2010-01-11  37.91011  -76.17137       22.1230      CHLA   \n",
       "229592      229592  2017-08-31  37.06237  -75.99937        5.6604      CHLA   \n",
       "229591      229591  2017-08-31  37.06237  -75.99937        5.0730      CHLA   \n",
       "229590      229590  2017-08-31  37.06237  -75.99937        5.4468      CHLA   \n",
       "229589      229589  2017-08-31  37.06237  -75.99937        4.9395      CHLA   \n",
       "\n",
       "       Problem Qualifier  SampleDepth  SampleId Station      Time  \\\n",
       "0          NaN       NaN         17.0   94013.0   CB5.3  10:28:00   \n",
       "229592     NaN       NaN          1.0  429030.0  CB7.4N  10:18:00   \n",
       "229591     NaN       NaN         10.0  429030.0  CB7.4N  10:18:00   \n",
       "229590     NaN       NaN          1.0  429030.0  CB7.4N  10:18:00   \n",
       "229589     NaN       NaN         10.0  429030.0  CB7.4N  10:18:00   \n",
       "\n",
       "             HUC12_              HUCNAME_  FIPS_             COUNTY_ STATE_  \\\n",
       "0       20801010000  Lower Chesapeake Bay  51001     Accomack County     VA   \n",
       "229592  20801010000  Lower Chesapeake Bay  51131  Northampton County     VA   \n",
       "229591  20801010000  Lower Chesapeake Bay  51131  Northampton County     VA   \n",
       "229590  20801010000  Lower Chesapeake Bay  51131  Northampton County     VA   \n",
       "229589  20801010000  Lower Chesapeake Bay  51131  Northampton County     VA   \n",
       "\n",
       "              ParameterName with Measure  \n",
       "0       ACTIVE CHLOROPHYLL-A 22.123 UG/L  \n",
       "229592  ACTIVE CHLOROPHYLL-A 5.6604 UG/L  \n",
       "229591   ACTIVE CHLOROPHYLL-A 5.073 UG/L  \n",
       "229590  ACTIVE CHLOROPHYLL-A 5.4468 UG/L  \n",
       "229589  ACTIVE CHLOROPHYLL-A 4.9395 UG/L  "
      ]
     },
     "execution_count": 15,
     "metadata": {},
     "output_type": "execute_result"
    }
   ],
   "source": [
    "df = combinedchemical.sort_values(['Parameter'])\n",
    "df.head()"
   ]
  },
  {
   "cell_type": "code",
   "execution_count": 24,
   "metadata": {},
   "outputs": [],
   "source": [
    "df_CHLA = df[df['Parameter'] == 'CHLA']\n",
    "df_PH = df[df['Parameter'] == 'PH']\n",
    "df_DO = df[df['Parameter'] == 'DO']\n",
    "df_SALINITY = df[df['Parameter'] == 'SALINITY']\n",
    "df_WTEMP = df[df['Parameter'] == 'WTEMP']\n",
    "df_TSS = df[df['Parameter'] == 'TSS']\n",
    "df_TP = df[df['Parameter'] == 'TP']\n",
    "df_TN = df[df['Parameter'] == 'TN']"
   ]
  },
  {
   "cell_type": "code",
   "execution_count": 36,
   "metadata": {},
   "outputs": [
    {
     "name": "stdout",
     "output_type": "stream",
     "text": [
      "(12249, 18)\n",
      "(61544, 18)\n",
      "(61912, 18)\n",
      "(61895, 18)\n",
      "(61929, 18)\n",
      "(12451, 18)\n",
      "(11809, 18)\n",
      "(12062, 18)\n"
     ]
    }
   ],
   "source": [
    "print(df_CHLA.shape)\n",
    "print(df_PH.shape)\n",
    "print(df_DO.shape)\n",
    "print(df_SALINITY.shape)\n",
    "print(df_WTEMP.shape)\n",
    "print(df_TSS.shape)\n",
    "print(df_TP.shape)\n",
    "print(df_TN.shape)"
   ]
  },
  {
   "cell_type": "code",
   "execution_count": 37,
   "metadata": {},
   "outputs": [],
   "source": [
    "import matplotlib.pyplot as plt"
   ]
  },
  {
   "cell_type": "code",
   "execution_count": 50,
   "metadata": {},
   "outputs": [
    {
     "data": {
      "image/png": "[encoded data removed]",
      "text/plain": [
       "<Figure size 432x288 with 1 Axes>"
      ]
     },
     "metadata": {
      "needs_background": "light"
     },
     "output_type": "display_data"
    }
   ],
   "source": [
    "plt.scatter(x=df_CHLA['Latitude'], y=df_CHLA['MeasureValue'])\n",
    "plt.show()"
   ]
  },
  {
   "cell_type": "code",
   "execution_count": 51,
   "metadata": {},
   "outputs": [
    {
     "data": {
      "text/plain": [
       "0.04275634481594015"
      ]
     },
     "execution_count": 51,
     "metadata": {},
     "output_type": "execute_result"
    }
   ],
   "source": [
    "X_CHLA = df_CHLA['Latitude'].values.reshape(-1,1)\n",
    "y_CHLA = df_CHLA['MeasureValue'].values.reshape(-1,1)\n",
    "\n",
    "CHLA = LinearRegression().fit(X_CHLA, y_CHLA)\n",
    "\n",
    "CHLA.score(X_CHLA,y_CHLA)"
   ]
  },
  {
   "cell_type": "code",
   "execution_count": 53,
   "metadata": {},
   "outputs": [
    {
     "data": {
      "image/png": "[encoded data removed]",
      "text/plain": [
       "<Figure size 432x288 with 1 Axes>"
      ]
     },
     "metadata": {
      "needs_background": "light"
     },
     "output_type": "display_data"
    }
   ],
   "source": [
    "plt.scatter(x=df_PH['Latitude'], y=df_PH['MeasureValue'])\n",
    "plt.show()"
   ]
  },
  {
   "cell_type": "code",
   "execution_count": 52,
   "metadata": {},
   "outputs": [
    {
     "data": {
      "text/plain": [
       "0.1305628208307732"
      ]
     },
     "execution_count": 52,
     "metadata": {},
     "output_type": "execute_result"
    }
   ],
   "source": [
    "X_PH = df_PH['Latitude'].values.reshape(-1,1)\n",
    "y_PH = df_PH['MeasureValue'].values.reshape(-1,1)\n",
    "\n",
    "PH = LinearRegression().fit(X_PH, y_PH)\n",
    "\n",
    "PH.score(X_PH,y_PH)"
   ]
  },
  {
   "cell_type": "code",
   "execution_count": 54,
   "metadata": {},
   "outputs": [
    {
     "data": {
      "image/png": "[encoded data removed]",
      "text/plain": [
       "<Figure size 432x288 with 1 Axes>"
      ]
     },
     "metadata": {
      "needs_background": "light"
     },
     "output_type": "display_data"
    }
   ],
   "source": [
    "plt.scatter(x=df_DO['Latitude'], y=df_DO['MeasureValue'])\n",
    "plt.show()"
   ]
  },
  {
   "cell_type": "code",
   "execution_count": 55,
   "metadata": {},
   "outputs": [
    {
     "data": {
      "text/plain": [
       "0.0162658498358903"
      ]
     },
     "execution_count": 55,
     "metadata": {},
     "output_type": "execute_result"
    }
   ],
   "source": [
    "X_DO = df_DO['Latitude'].values.reshape(-1,1)\n",
    "y_DO = df_DO['MeasureValue'].values.reshape(-1,1)\n",
    "\n",
    "DO = LinearRegression().fit(X_DO, y_DO)\n",
    "\n",
    "DO.score(X_DO,y_DO)"
   ]
  },
  {
   "cell_type": "code",
   "execution_count": 70,
   "metadata": {},
   "outputs": [
    {
     "data": {
      "image/png": "[encoded data removed]",
      "text/plain": [
       "<Figure size 432x288 with 1 Axes>"
      ]
     },
     "metadata": {
      "needs_background": "light"
     },
     "output_type": "display_data"
    }
   ],
   "source": [
    "plt.scatter(x=df_SALINITY['Latitude'], y=df_SALINITY['MeasureValue'])\n",
    "plt.show()"
   ]
  },
  {
   "cell_type": "code",
   "execution_count": 57,
   "metadata": {},
   "outputs": [
    {
     "data": {
      "text/plain": [
       "0.5411064170637934"
      ]
     },
     "execution_count": 57,
     "metadata": {},
     "output_type": "execute_result"
    }
   ],
   "source": [
    "X_SALINITY = df_SALINITY['Latitude'].values.reshape(-1,1)\n",
    "y_SALINITY = df_SALINITY['MeasureValue'].values.reshape(-1,1)\n",
    "\n",
    "SALINITY = LinearRegression().fit(X_SALINITY, y_SALINITY)\n",
    "\n",
    "SALINITY.score(X_SALINITY,y_SALINITY)"
   ]
  },
  {
   "cell_type": "code",
   "execution_count": 71,
   "metadata": {
    "scrolled": true
   },
   "outputs": [
    {
     "data": {
      "image/png": "[encoded data removed]",
      "text/plain": [
       "<Figure size 432x288 with 1 Axes>"
      ]
     },
     "metadata": {
      "needs_background": "light"
     },
     "output_type": "display_data"
    }
   ],
   "source": [
    "plt.scatter(x=df_WTEMP['SampleDepth'], y=df_WTEMP['MeasureValue'])\n",
    "plt.show()"
   ]
  },
  {
   "cell_type": "code",
   "execution_count": 68,
   "metadata": {},
   "outputs": [
    {
     "data": {
      "text/plain": [
       "0.00020764378384063864"
      ]
     },
     "execution_count": 68,
     "metadata": {},
     "output_type": "execute_result"
    }
   ],
   "source": [
    "X_WTEMP = df_WTEMP['Latitude'].values.reshape(-1,1)\n",
    "y_WTEMP = df_WTEMP['MeasureValue'].values.reshape(-1,1)\n",
    "\n",
    "WTEMP = LinearRegression().fit(X_WTEMP, y_WTEMP)\n",
    "\n",
    "WTEMP.score(X_WTEMP,y_WTEMP)"
   ]
  },
  {
   "cell_type": "code",
   "execution_count": 60,
   "metadata": {},
   "outputs": [
    {
     "data": {
      "image/png": "[encoded data removed]",
      "text/plain": [
       "<Figure size 432x288 with 1 Axes>"
      ]
     },
     "metadata": {
      "needs_background": "light"
     },
     "output_type": "display_data"
    }
   ],
   "source": [
    "plt.scatter(x=df_TSS['Latitude'], y=df_TSS['MeasureValue'])\n",
    "plt.show()"
   ]
  },
  {
   "cell_type": "code",
   "execution_count": 61,
   "metadata": {},
   "outputs": [
    {
     "data": {
      "text/plain": [
       "0.008377506222670417"
      ]
     },
     "execution_count": 61,
     "metadata": {},
     "output_type": "execute_result"
    }
   ],
   "source": [
    "X_TSS = df_TSS['Latitude'].values.reshape(-1,1)\n",
    "y_TSS = df_TSS['MeasureValue'].values.reshape(-1,1)\n",
    "\n",
    "TSS = LinearRegression().fit(X_TSS, y_TSS)\n",
    "\n",
    "TSS.score(X_TSS,y_TSS)"
   ]
  },
  {
   "cell_type": "code",
   "execution_count": 62,
   "metadata": {},
   "outputs": [
    {
     "data": {
      "image/png": "[encoded data removed]",
      "text/plain": [
       "<Figure size 432x288 with 1 Axes>"
      ]
     },
     "metadata": {
      "needs_background": "light"
     },
     "output_type": "display_data"
    }
   ],
   "source": [
    "plt.scatter(x=df_TP['Latitude'], y=df_TP['MeasureValue'])\n",
    "plt.show()"
   ]
  },
  {
   "cell_type": "code",
   "execution_count": 64,
   "metadata": {},
   "outputs": [
    {
     "data": {
      "text/plain": [
       "0.12826198998866323"
      ]
     },
     "execution_count": 64,
     "metadata": {},
     "output_type": "execute_result"
    }
   ],
   "source": [
    "X_TP = df_TP['Latitude'].values.reshape(-1,1)\n",
    "y_TP = df_TP['MeasureValue'].values.reshape(-1,1)\n",
    "\n",
    "TP = LinearRegression().fit(X_TP, y_TP)\n",
    "\n",
    "TP.score(X_TP,y_TP)"
   ]
  },
  {
   "cell_type": "code",
   "execution_count": 65,
   "metadata": {},
   "outputs": [
    {
     "data": {
      "image/png": "[encoded data removed]",
      "text/plain": [
       "<Figure size 432x288 with 1 Axes>"
      ]
     },
     "metadata": {
      "needs_background": "light"
     },
     "output_type": "display_data"
    }
   ],
   "source": [
    "plt.scatter(x=df_TN['Latitude'], y=df_TN['MeasureValue'])\n",
    "plt.show()"
   ]
  },
  {
   "cell_type": "code",
   "execution_count": 66,
   "metadata": {},
   "outputs": [
    {
     "data": {
      "text/plain": [
       "0.22943320603863615"
      ]
     },
     "execution_count": 66,
     "metadata": {},
     "output_type": "execute_result"
    }
   ],
   "source": [
    "X_TN = df_TN['Latitude'].values.reshape(-1,1)\n",
    "y_TN = df_TN['MeasureValue'].values.reshape(-1,1)\n",
    "\n",
    "TN = LinearRegression().fit(X_TN, y_TN)\n",
    "\n",
    "TN.score(X_TN,y_TN)"
   ]
  },
  {
   "cell_type": "code",
   "execution_count": null,
   "metadata": {},
   "outputs": [],
   "source": []
  }
 ],
 "metadata": {
  "kernelspec": {
   "display_name": "Python 3",
   "language": "python",
   "name": "python3"
  },
  "language_info": {
   "codemirror_mode": {
    "name": "ipython",
    "version": 3
   },
   "file_extension": ".py",
   "mimetype": "text/x-python",
   "name": "python",
   "nbconvert_exporter": "python",
   "pygments_lexer": "ipython3",
   "version": "3.7.4"
  }
 },
 "nbformat": 4,
 "nbformat_minor": 2
}
